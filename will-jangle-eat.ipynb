{
 "cells": [
  {
   "cell_type": "code",
   "execution_count": null,
   "metadata": {
    "colab": {
     "base_uri": "https://localhost:8080/"
    },
    "id": "5IaYTtBkwG_O",
    "outputId": "0ccd0569-8c51-4b51-8b69-371ce1ab9360"
   },
   "outputs": [],
   "source": [
    "%pip install duckduckgo-search"
   ]
  },
  {
   "cell_type": "code",
   "execution_count": null,
   "metadata": {
    "id": "R9L48poVdAg2"
   },
   "outputs": [],
   "source": [
    "from duckduckgo_search import DDGS #DuckDuckGo has changed the api so we need to update\n",
    "from fastcore.all import *\n",
    "\n",
    "def search_images(keywords, max_images=200): return L(DDGS().images(keywords, max_results=max_images)).itemgot('image')\n",
    "import time, json"
   ]
  },
  {
   "cell_type": "code",
   "execution_count": null,
   "metadata": {
    "colab": {
     "base_uri": "https://localhost:8080/",
     "height": 52
    },
    "id": "c4kKWmZ1jgh7",
    "outputId": "54a5ee43-d8db-4fc2-e124-10b5698c017f"
   },
   "outputs": [],
   "source": [
    "urls = search_images('durian', max_images=1)\n",
    "urls[0]"
   ]
  },
  {
   "cell_type": "code",
   "execution_count": null,
   "metadata": {
    "colab": {
     "base_uri": "https://localhost:8080/",
     "height": 195
    },
    "id": "0NV5j1E0kuEl",
    "outputId": "cc2c8022-9a04-46e9-c947-4e19c886b08b"
   },
   "outputs": [],
   "source": [
    "from fastdownload import download_url\n",
    "dest = 'durian.jpg'\n",
    "download_url(urls[0], dest, show_progress=False)\n",
    "\n",
    "from fastai.vision.all import *\n",
    "im = Image.open(dest)\n",
    "im.to_thumb(256,256)"
   ]
  },
  {
   "cell_type": "code",
   "execution_count": null,
   "metadata": {
    "colab": {
     "base_uri": "https://localhost:8080/",
     "height": 177
    },
    "id": "owD93C7DmHDD",
    "outputId": "89ba394f-4065-4350-89a7-339fbc36731e"
   },
   "outputs": [],
   "source": [
    "download_url(search_images('durian', max_images=1)[0], 'durian.jpg', show_progress=False)\n",
    "Image.open('durian.jpg').to_thumb(256,256)"
   ]
  },
  {
   "cell_type": "code",
   "execution_count": null,
   "metadata": {
    "colab": {
     "base_uri": "https://localhost:8080/"
    },
    "id": "2ORmhuhumXDQ",
    "outputId": "377d738b-f188-41bd-99b3-e13168730ed5"
   },
   "outputs": [],
   "source": [
    "# Download durian images to external data folder\n",
    "from fastai.vision.all import *\n",
    "\n",
    "# Path to external data folder (one directory up from project)\n",
    "data_path = Path('../data')\n",
    "durian_dest = data_path/'durian'\n",
    "\n",
    "# Create durian directory if it doesn't exist\n",
    "durian_dest.mkdir(exist_ok=True, parents=True)\n",
    "\n",
    "# Download durian images\n",
    "print(f\"Downloading durian images to {durian_dest}\")\n",
    "durian_urls = search_images('durian', max_images=300)\n",
    "download_images(durian_dest, urls=durian_urls)\n",
    "time.sleep(2)\n",
    "\n",
    "# Resize images\n",
    "print(\"Resizing durian images...\")\n",
    "resize_images(durian_dest, max_size=400, dest=durian_dest)\n",
    "\n",
    "print(f\"Downloaded {len(get_image_files(durian_dest))} durian images\")"
   ]
  },
  {
   "cell_type": "code",
   "execution_count": null,
   "metadata": {
    "colab": {
     "base_uri": "https://localhost:8080/"
    },
    "id": "egCIvRDfo3xz",
    "outputId": "cb643153-79ed-4485-be8c-12ea68b54127"
   },
   "outputs": [],
   "source": [
    "# Verify images in external data folder\n",
    "data_path = Path('../data')\n",
    "failed = verify_images(get_image_files(data_path))\n",
    "failed.map(Path.unlink)\n",
    "print(f\"Removed {len(failed)} corrupted images\")\n",
    "print(f\"Categories found: {[d.name for d in data_path.iterdir() if d.is_dir()]}\")"
   ]
  },
  {
   "cell_type": "code",
   "execution_count": null,
   "metadata": {
    "colab": {
     "base_uri": "https://localhost:8080/",
     "height": 516
    },
    "id": "wXWolplro-iz",
    "outputId": "89b22e9f-ba0c-411f-bdf2-b17ac7fea107"
   },
   "outputs": [],
   "source": [
    "# Create DataLoaders for 3-class classification\n",
    "data_path = Path('../data')\n",
    "\n",
    "dls = DataBlock(\n",
    "    blocks=(ImageBlock, CategoryBlock),\n",
    "    get_items=get_image_files,\n",
    "    splitter=RandomSplitter(valid_pct=0.2, seed=42),\n",
    "    get_y=parent_label,\n",
    "    item_tfms=[Resize(192, method='squish')]\n",
    ").dataloaders(data_path, bs=32)\n",
    "\n",
    "print(f\"Classes: {dls.vocab}\")\n",
    "print(f\"Training samples: {len(dls.train_ds)}\")\n",
    "print(f\"Validation samples: {len(dls.valid_ds)}\")\n",
    "\n",
    "dls.show_batch(max_n=6)"
   ]
  },
  {
   "cell_type": "code",
   "execution_count": null,
   "metadata": {
    "colab": {
     "base_uri": "https://localhost:8080/",
     "height": 259
    },
    "id": "WTWGvccBpldI",
    "outputId": "51b3934f-168c-4aa8-bef9-b8853f082eb9"
   },
   "outputs": [],
   "source": [
    "# Train the model\n",
    "learn = vision_learner(dls, resnet34, metrics=error_rate)\n",
    "print(\"Training model...\")\n",
    "learn.fine_tune(4)"
   ]
  },
  {
   "cell_type": "code",
   "execution_count": null,
   "metadata": {
    "colab": {
     "base_uri": "https://localhost:8080/",
     "height": 51
    },
    "id": "A18jJQfLqDhO",
    "outputId": "d4d49c28-f479-49bf-bf67-aba6aa6b6b0d"
   },
   "outputs": [],
   "source": [
    "# Test model prediction\n",
    "# Replace 'durian.jpg' with any image file you want to test\n",
    "test_image = 'images.jpeg'\n",
    "pred_class, pred_idx, probs = learn.predict(PILImage.create(test_image))\n",
    "\n",
    "print(f\"Predicted class: {pred_class}\")\n",
    "print(f\"Confidence scores:\")\n",
    "for i, label in enumerate(dls.vocab):\n",
    "    print(f\"  {label}: {probs[i]:.4f}\")\n",
    "    \n",
    "# Jangle's verdict\n",
    "if pred_class == 'durian':\n",
    "    verdict = \"Jangle will NOT eat this! (It's durian)\"\n",
    "elif pred_class == 'inedible':\n",
    "    verdict = \"Jangle will NOT eat this! (It's not food)\"\n",
    "else:  # non_durian_edible\n",
    "    verdict = \"Jangle will eat this!\"\n",
    "    \n",
    "print(f\"\\nVerdict: {verdict}\")"
   ]
  },
  {
   "cell_type": "code",
   "execution_count": null,
   "metadata": {
    "id": "B8JJ4vG9z0t-"
   },
   "outputs": [],
   "source": [
    "# Export the trained model\n",
    "learn.export('model.pkl')\n",
    "print(\"Model exported as model.pkl\")\n",
    "\n",
    "# Copy to api folder for deployment\n",
    "import shutil\n",
    "shutil.copy('model.pkl', 'api/model.pkl')\n",
    "print(\"Model copied to api/model.pkl for deployment\")"
   ]
  }
 ],
 "metadata": {
  "colab": {
   "provenance": []
  },
  "kernelspec": {
   "display_name": "Python 3",
   "language": "python",
   "name": "python3"
  },
  "language_info": {
   "codemirror_mode": {
    "name": "ipython",
    "version": 3
   },
   "file_extension": ".py",
   "mimetype": "text/x-python",
   "name": "python",
   "nbconvert_exporter": "python",
   "pygments_lexer": "ipython3",
   "version": "3.12.11"
  }
 },
 "nbformat": 4,
 "nbformat_minor": 0
}
